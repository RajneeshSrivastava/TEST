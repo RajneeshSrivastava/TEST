{
 "cells": [
  {
   "cell_type": "code",
   "execution_count": 1,
   "metadata": {},
   "outputs": [],
   "source": [
    "%matplotlib inline\n",
    "import matplotlib.pyplot as plt\n",
    "import numpy as np\n",
    "from ipywidgets import interact, interactive, fixed, interact_manual\n",
    "import ipywidgets as wg\n",
    "import random"
   ]
  },
  {
   "cell_type": "code",
   "execution_count": 2,
   "metadata": {},
   "outputs": [
    {
     "data": {
      "application/vnd.jupyter.widget-view+json": {
       "model_id": "1386e728752748359a2b6bff166e4e8c",
       "version_major": 2,
       "version_minor": 0
      },
      "text/plain": [
       "HBox(children=(IntProgress(value=0, description='Loading:', max=10), Button(description='START', style=ButtonS…"
      ]
     },
     "metadata": {},
     "output_type": "display_data"
    }
   ],
   "source": [
    "##Working\n",
    "progress=wg.IntProgress(\n",
    "        value=0,\n",
    "        min=0,\n",
    "        max=10,\n",
    "        step=1,\n",
    "        description='Loading:',\n",
    "        bar_style='', #'working','Danger' or 'Done',\n",
    "        orientation='horizontal'\n",
    ")\n",
    "\n",
    "A=wg.Button(description='START')\n",
    "B=wg.Button(description='STOP')\n",
    "C=wg.Button(description='WOBBLE')\n",
    "D=wg.Button(description='Refresh')\n",
    "\n",
    "Game = [A,B,C,D]\n",
    "\n",
    "for i in Game:\n",
    "    def Click (i):\n",
    "        if i == A:\n",
    "            progress.value+=1\n",
    "        elif i == B:\n",
    "            progress.value+=random.randint(-2,2)\n",
    "        elif i == C:\n",
    "            progress.value+=-1\n",
    "        elif i == D:\n",
    "            progress.value=0\n",
    "        elif progress.value == 10:\n",
    "            print (\"Game over\")\n",
    "    i.on_click(Click)\n",
    "        \n",
    "wg.HBox([progress, A, B, C,D])\n",
    "#D.on_click(0)"
   ]
  },
  {
   "cell_type": "code",
   "execution_count": null,
   "metadata": {},
   "outputs": [],
   "source": [
    "##Working\n",
    "@interact_manual (x =(-10,10), y =(-10,10))\n",
    "def A(x,y):\n",
    "    plt.figure()\n",
    "    a=np.linspace(-10,10,num=1000)\n",
    "    plt.plot(a,x*a + y)\n",
    "    plt.ylim(-10,10)\n",
    "    plt.show()"
   ]
  },
  {
   "cell_type": "code",
   "execution_count": null,
   "metadata": {},
   "outputs": [],
   "source": [
    "##Integrate the two codes\n",
    "#Code1\n",
    "@interact_manual (x =(-10,10), y =(-10,10))\n",
    "def A(x,y):\n",
    "    plt.figure()\n",
    "    a=np.linspace(-10,10,num=1000)\n",
    "    plt.plot(a,x*a + y)\n",
    "    plt.ylim(-10,10)\n",
    "    plt.show()\n",
    "\n",
    "#Code2\n",
    "progress=wg.IntProgress(\n",
    "        value=0,\n",
    "        min=0,\n",
    "        max=10,\n",
    "        step=1,\n",
    "        description='Loading:',\n",
    "        bar_style='', #'working','Danger' or 'Done',\n",
    "        orientation='horizontal'\n",
    ")\n",
    "\n",
    "A=wg.Button(description='START')\n",
    "B=wg.Button(description='STOP')\n",
    "C=wg.Button(description='WOBBLE')\n",
    "D=wg.Button(description='Refresh')\n",
    "\n",
    "Game = [A,B,C,D]\n",
    "\n",
    "for i in Game:\n",
    "    def Click (i):\n",
    "        if i == A:\n",
    "            progress.value+=1\n",
    "        elif i == B:\n",
    "            progress.value+=-1\n",
    "        elif i == C:\n",
    "            progress.value+=random.randint(-1,1)\n",
    "        elif i == D:\n",
    "            progress.value=0\n",
    "        elif progress.value == 10:\n",
    "            print (\"Game over\")\n",
    "    i.on_click(Click)\n",
    "        \n",
    "wg.HBox([progress, A, B, C,D])"
   ]
  },
  {
   "cell_type": "code",
   "execution_count": null,
   "metadata": {},
   "outputs": [],
   "source": [
    "from IPython.display import display\n",
    "from ipywidgets import FloatProgress\n",
    "f = FloatProgress(min=0, max=100)\n",
    "display(progress,f)"
   ]
  }
 ],
 "metadata": {
  "kernelspec": {
   "display_name": "Python 3",
   "language": "python",
   "name": "python3"
  },
  "language_info": {
   "codemirror_mode": {
    "name": "ipython",
    "version": 3
   },
   "file_extension": ".py",
   "mimetype": "text/x-python",
   "name": "python",
   "nbconvert_exporter": "python",
   "pygments_lexer": "ipython3",
   "version": "3.7.4"
  }
 },
 "nbformat": 4,
 "nbformat_minor": 2
}
